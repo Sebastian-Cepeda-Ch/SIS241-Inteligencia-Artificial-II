{
  "nbformat": 4,
  "nbformat_minor": 0,
  "metadata": {
    "colab": {
      "provenance": []
    },
    "kernelspec": {
      "name": "python3",
      "display_name": "Python 3"
    },
    "language_info": {
      "name": "python"
    }
  },
  "cells": [
    {
      "cell_type": "code",
      "execution_count": 1,
      "metadata": {
        "id": "1dbBg9MU6Opl"
      },
      "outputs": [],
      "source": [
        "import torch\n",
        "import torch.nn as nn"
      ]
    },
    {
      "cell_type": "code",
      "source": [
        "class Discriminator(nn.Module):\n",
        "  def __init__(self, channels_img, featuress_d):\n",
        "    super(Discriminator, self).__init__()\n",
        "    self.disc = nn.Sequential(\n",
        "        # Imput: N x channels_img  x 40 x 40\n",
        "        nn.Conv2d(\n",
        "            channels_img, featuress_d, kernel_size= 4, stride=2, padding = 1\n",
        "        ),#20x20\n",
        "        nn.LeakyReLU(0.2),\n",
        "        self._block(featuress_d,featuress_d*2, 4, 2, 1), #10x10\n",
        "        self._block(featuress_d*2,featuress_d*4, 4, 2, 1),#5x5\n",
        "        self._block(featuress_d*4,featuress_d*8, 4, 2, 1),#non\n",
        "    )\n",
        "\n",
        "\n",
        "  def _block(self, in_channels, out_channels, kernel_size, stride, padding):\n",
        "    return nn.Sequential(\n",
        "        nn.Conv2d(\n",
        "            in_channels,\n",
        "            out_channels,\n",
        "            kernel_size,\n",
        "            stride,\n",
        "            padding,\n",
        "            bias=False,\n",
        "        ),\n",
        "    )\n"
      ],
      "metadata": {
        "id": "wKzchuVN8h1o"
      },
      "execution_count": null,
      "outputs": []
    }
  ]
}